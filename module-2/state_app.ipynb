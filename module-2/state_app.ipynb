{
 "cells": [
  {
   "cell_type": "markdown",
   "metadata": {},
   "source": [
    "# Application: Generating Character Descriptions\n",
    " \n",
    "Let's build a simple application that generates character descriptions using the concepts we've learned. \n",
    "We'll use Pydantic for our state schema to ensure data integrity."
   ]
  },
  {
   "cell_type": "code",
   "execution_count": 1,
   "metadata": {},
   "outputs": [],
   "source": [
    "from pydantic import BaseModel, field_validator, ValidationError\n",
    "from langgraph.graph import StateGraph, START, END\n",
    "from IPython.display import Image, display\n",
    "from typing import Literal\n",
    "import random"
   ]
  },
  {
   "cell_type": "code",
   "execution_count": 2,
   "metadata": {},
   "outputs": [],
   "source": [
    "# Define our state schema with Pydantic\n",
    "class InputState(BaseModel):\n",
    "    name: str = \"\"\n",
    "    wants_details: bool = False \n",
    "\n",
    "class OutputState(BaseModel):\n",
    "    description: str = \"\"\n",
    "\n",
    "class CharacterState(BaseModel):\n",
    "    name: str = \"\"\n",
    "    age: int = 0\n",
    "    species: Literal[\"Human\", \"Elf\", \"Dwarf\"] = \"Human\"\n",
    "    profession: str = \"\"\n",
    "    trait: str = \"\"\n",
    "    description: str = \"\"\n",
    "    wants_details: bool = False\n",
    "\n",
    "    @field_validator('species')\n",
    "    @classmethod\n",
    "    def validate_species(cls, value):\n",
    "        if value not in [\"Human\", \"Elf\", \"Dwarf\"]:\n",
    "            raise ValueError(\"Species must be either 'Human', 'Elf', or 'Dwarf'\")\n",
    "        return value"
   ]
  },
  {
   "cell_type": "code",
   "execution_count": 3,
   "metadata": {},
   "outputs": [],
   "source": [
    "from langchain_ollama import ChatOllama\n",
    "from langchain_core.messages import AIMessage, HumanMessage, SystemMessage\n",
    "\n",
    "# System message for the LLM\n",
    "sys_msg = SystemMessage(content=\"You are a character description generator. When provided with the characteristics of a character (name, age, species, profession, and trait), you only output a short description of the character using the characteristics.\") \n",
    "\n",
    "llm = ChatOllama(model='llama3.1', temperature=0.9, num_predict=128)"
   ]
  },
  {
   "cell_type": "code",
   "execution_count": 4,
   "metadata": {},
   "outputs": [],
   "source": [
    "# --- State Graph Functions --- \n",
    "def get_age(state: CharacterState):\n",
    "    age = random.randint(18, 100)\n",
    "    print(f\"Age: {age}\")\n",
    "    return {\"age\": age}\n",
    "\n",
    "def get_species(state: CharacterState):\n",
    "    species = random.choice([\"Human\", \"Elf\", \"Dwarf\"])\n",
    "    print(f\"Species: {species}\")\n",
    "    return {\"species\": species}\n",
    "\n",
    "def get_profession(state: CharacterState):\n",
    "    if state.species == \"Human\":\n",
    "        profession = random.choice([\"Warrior\", \"Mage\", \"Thief\", \"Priest\", \"Merchant\", \"Farmer\"])\n",
    "    elif state.species == \"Elf\":\n",
    "        profession = random.choice([\"Ranger\", \"Druid\", \"Bard\", \"Scholar\", \"Trader\", \"Hunter\"])\n",
    "    else:  # Dwarf\n",
    "        profession = random.choice([\"Miner\", \"Blacksmith\", \"Brewer\", \"Engineer\", \"Merchant\", \"Warrior\"])\n",
    "    print(f\"Profession: {profession}\")\n",
    "    return {\"profession\": profession}\n",
    "\n",
    "def get_trait(state: CharacterState):\n",
    "    trait = random.choice([\"brave\", \"wise\", \"stubborn\", \"clever\", \"loyal\", \"honest\", \"curious\", \"charming\"])\n",
    "    print(f\"Trait: {trait}\")\n",
    "    return {\"trait\": trait}\n",
    "\n",
    "def generate_description(state: CharacterState) -> OutputState:\n",
    "    messages = [\n",
    "        # sys_msg,\n",
    "        HumanMessage(content=f\"\"\"\n",
    "        Name: {state.name}\n",
    "        Age: {state.age}\n",
    "        Species: {state.species}\n",
    "        Profession: {state.profession}\n",
    "        Trait: {state.trait}\n",
    "        Provide a {'detailed' if state.wants_details else 'short'} description.\n",
    "        \"\"\")\n",
    "    ]\n",
    "    AI_response = llm.invoke(messages)\n",
    "    response_content = AI_response.content.replace(\"\\n\", \" \")\n",
    "    print(response_content)\n",
    "    return {\"description\": response_content}"
   ]
  },
  {
   "cell_type": "code",
   "execution_count": 5,
   "metadata": {},
   "outputs": [
    {
     "data": {
      "image/jpeg": "[encoded data removed]",
      "text/plain": [
       "<IPython.core.display.Image object>"
      ]
     },
     "metadata": {},
     "output_type": "display_data"
    }
   ],
   "source": [
    "# --- Build the State Graph ---\n",
    "builder = StateGraph(CharacterState, input=InputState, output=OutputState)\n",
    "builder.add_node(\"get_age\", get_age)\n",
    "builder.add_node(\"get_species\", get_species)\n",
    "builder.add_node(\"get_profession\", get_profession)\n",
    "builder.add_node(\"get_trait\", get_trait)\n",
    "builder.add_node(\"generate_description\", generate_description)\n",
    "\n",
    "# Define the graph logic (edges)\n",
    "builder.add_edge(START, \"get_age\")\n",
    "builder.add_edge(\"get_age\", \"get_species\")\n",
    "builder.add_edge(\"get_species\", \"get_profession\")\n",
    "builder.add_edge(\"get_profession\", \"get_trait\")\n",
    "builder.add_edge(\"get_trait\", \"generate_description\")\n",
    "builder.add_edge(\"generate_description\", END)\n",
    "\n",
    "# Compile and run the graph\n",
    "graph = builder.compile()\n",
    "display(Image(graph.get_graph().draw_mermaid_png()))"
   ]
  },
  {
   "cell_type": "code",
   "execution_count": 6,
   "metadata": {},
   "outputs": [
    {
     "name": "stdout",
     "output_type": "stream",
     "text": [
      "Age: 34\n",
      "Species: Human\n",
      "Profession: Merchant\n",
      "Trait: wise\n",
      "Alice is a seasoned merchant in her mid-30s, with a calm and composed demeanor that commands respect. Her years of experience have earned her the reputation as a shrewd and reliable businesswoman, known for her keen insight and wise decision-making skills. Despite her profession's reputation for cutthroat competition, Alice conducts herself with integrity and fairness, earning the trust and admiration of her peers and clients alike.\n"
     ]
    },
    {
     "data": {
      "text/plain": [
       "{'description': \"Alice is a seasoned merchant in her mid-30s, with a calm and composed demeanor that commands respect. Her years of experience have earned her the reputation as a shrewd and reliable businesswoman, known for her keen insight and wise decision-making skills. Despite her profession's reputation for cutthroat competition, Alice conducts herself with integrity and fairness, earning the trust and admiration of her peers and clients alike.\"}"
      ]
     },
     "execution_count": 6,
     "metadata": {},
     "output_type": "execute_result"
    }
   ],
   "source": [
    "graph.invoke(CharacterState(\n",
    "    name=\"Alice\",\n",
    "    wants_details=False\n",
    "))"
   ]
  }
 ],
 "metadata": {
  "kernelspec": {
   "display_name": "lc-academy-env",
   "language": "python",
   "name": "python3"
  },
  "language_info": {
   "codemirror_mode": {
    "name": "ipython",
    "version": 3
   },
   "file_extension": ".py",
   "mimetype": "text/x-python",
   "name": "python",
   "nbconvert_exporter": "python",
   "pygments_lexer": "ipython3",
   "version": "3.12.2"
  }
 },
 "nbformat": 4,
 "nbformat_minor": 2
}
